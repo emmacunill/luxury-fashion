{
 "cells": [
  {
   "cell_type": "code",
   "execution_count": 655,
   "metadata": {},
   "outputs": [],
   "source": [
    "import pandas as pd\n",
    "import os\n",
    "import numpy as np\n",
    "import re\n",
    "from collections import Counter\n",
    "import matplotlib.pyplot as plt \n",
    "import seaborn as sb\n",
    "from bs4 import BeautifulSoup\n",
    "from urllib.request import urlopen\n",
    "import requests "
   ]
  },
  {
   "cell_type": "markdown",
   "metadata": {},
   "source": [
    "## CLEANING THE DATAFRAMES ##"
   ]
  },
  {
   "cell_type": "markdown",
   "metadata": {},
   "source": []
  },
  {
   "cell_type": "code",
   "execution_count": 656,
   "metadata": {},
   "outputs": [
    {
     "data": {
      "text/plain": [
       "Index(['Unnamed: 0', 'Brand', 'BrandOriginCountry', 'BrandOriginRegion',\n",
       "       'BrandSector', 'BrandSubSector', 'Rank2001', 'Rank2002', 'Rank2003',\n",
       "       'Rank2004', 'Rank2005', 'Rank2006', 'Rank2007', 'Rank2008', 'Rank2009',\n",
       "       'Rank2010', 'Rank2011', 'Rank2012', 'Rank2013', 'Rank2014', 'Rank2015',\n",
       "       'Rank2016', 'Rank2017', 'Rank2018', 'Rank2019', 'Rank2020', 'Rank2021',\n",
       "       'Equity2001', 'Equity2002', 'Equity2003', 'Equity2004', 'Equity2005',\n",
       "       'Equity2006', 'Equity2007', 'Equity2008', 'Equity2009', 'Equity2010',\n",
       "       'Equity2011', 'Equity2012', 'Equity2013', 'Equity2014', 'Equity2015',\n",
       "       'Equity2016', 'Equity2017', 'Equity2018', 'Equity2019', 'Equity2020',\n",
       "       'Equity2021', 'GrowthRate2001', 'GrowthRate2002', 'GrowthRate2003',\n",
       "       'GrowthRate2004', 'GrowthRate2005', 'GrowthRate2006', 'GrowthRate2007',\n",
       "       'GrowthRate2008', 'GrowthRate2009', 'GrowthRate2010', 'GrowthRate2011',\n",
       "       'GrowthRate2012', 'GrowthRate2013', 'GrowthRate2014', 'GrowthRate2015',\n",
       "       'GrowthRate2016', 'GrowthRate2017', 'GrowthRate2018', 'GrowthRate2019',\n",
       "       'GrowthRate2020', 'GrowthRate2021', 'Social Visibility',\n",
       "       'Web Visibility', 'Sentiment', 'Growth', 'Search', 'Total', 'Rank',\n",
       "       'Mcap $', 'Type', 'MFW', 'PWF', 'NYFF'],\n",
       "      dtype='object')"
      ]
     },
     "execution_count": 656,
     "metadata": {},
     "output_type": "execute_result"
    }
   ],
   "source": [
    "df = pd.read_csv(\"../data/merged.csv\")\n",
    "df.columns"
   ]
  },
  {
   "cell_type": "code",
   "execution_count": 657,
   "metadata": {},
   "outputs": [
    {
     "data": {
      "text/plain": [
       "Index(['Unnamed: 0', 'Brand', 'BrandOriginCountry', 'BrandOriginRegion',\n",
       "       'BrandSector', 'BrandSubSector', 'Rank2001', 'Rank2002', 'Rank2003',\n",
       "       'Rank2004', 'Rank2005', 'Rank2006', 'Rank2007', 'Rank2008', 'Rank2009',\n",
       "       'Rank2010', 'Rank2011', 'Rank2012', 'Rank2013', 'Rank2014', 'Rank2015',\n",
       "       'Rank2016', 'Rank2017', 'Rank2018', 'Rank2019', 'Rank2020', 'Rank2021',\n",
       "       'Equity2001', 'Equity2002', 'Equity2003', 'Equity2004', 'Equity2005',\n",
       "       'Equity2006', 'Equity2007', 'Equity2008', 'Equity2009', 'Equity2010',\n",
       "       'Equity2011', 'Equity2012', 'Equity2013', 'Equity2014', 'Equity2015',\n",
       "       'Equity2016', 'Equity2017', 'Equity2018', 'Equity2019', 'Equity2020',\n",
       "       'Equity2021', 'GrowthRate2001', 'GrowthRate2002', 'GrowthRate2003',\n",
       "       'GrowthRate2004', 'GrowthRate2005', 'GrowthRate2006', 'GrowthRate2007',\n",
       "       'GrowthRate2008', 'GrowthRate2009', 'GrowthRate2010', 'GrowthRate2011',\n",
       "       'GrowthRate2012', 'GrowthRate2013', 'GrowthRate2014', 'GrowthRate2015',\n",
       "       'GrowthRate2016', 'GrowthRate2017', 'GrowthRate2018', 'GrowthRate2019',\n",
       "       'GrowthRate2020', 'GrowthRate2021', 'Social Visibility',\n",
       "       'Web Visibility', 'Sentiment', 'Growth', 'Search', 'Total', 'Rank',\n",
       "       'Mcap $', 'Type', 'MFW', 'PWF', 'NYFF'],\n",
       "      dtype='object')"
      ]
     },
     "execution_count": 657,
     "metadata": {},
     "output_type": "execute_result"
    }
   ],
   "source": [
    "df.columns"
   ]
  },
  {
   "cell_type": "markdown",
   "metadata": {},
   "source": [
    "    ''' I'm dropping the columns \"Unnamed: 0.1\", \"Unnamed: 0\" as they only provide repeated information'''"
   ]
  },
  {
   "cell_type": "code",
   "execution_count": 658,
   "metadata": {},
   "outputs": [],
   "source": [
    "#df = df.drop(columns=[\"Unnamed: 0.1\", \"Unnamed: 0\"])\n",
    "#df"
   ]
  },
  {
   "cell_type": "markdown",
   "metadata": {},
   "source": [
    "    ''' Also dropping the rows pertaining to brand names not retail specific.'''"
   ]
  },
  {
   "cell_type": "code",
   "execution_count": 659,
   "metadata": {},
   "outputs": [
    {
     "data": {
      "text/plain": [
       "'dropping_rows = [24, 18, 12]\\ndf = df.drop(index=dropping_rows)\\ndf.reset_index(drop=True, inplace=True)\\ndf'"
      ]
     },
     "execution_count": 659,
     "metadata": {},
     "output_type": "execute_result"
    }
   ],
   "source": [
    "'''dropping_rows = [24, 18, 12]\n",
    "df = df.drop(index=dropping_rows)\n",
    "df.reset_index(drop=True, inplace=True)\n",
    "df'''"
   ]
  },
  {
   "cell_type": "markdown",
   "metadata": {},
   "source": [
    "    '''Let's explore the columns, because there's a lot of them that are not going to be needed for the analysis so we need to decide which columns to drop. '''"
   ]
  },
  {
   "cell_type": "markdown",
   "metadata": {},
   "source": [
    "I don't really need the rankings from the 2000's as all the other data is more actual. So I'll be dropping the columns of the rankings except the last 5 years."
   ]
  },
  {
   "cell_type": "code",
   "execution_count": 660,
   "metadata": {},
   "outputs": [
    {
     "data": {
      "text/plain": [
       "'df = df.drop(columns=[\"Rank2001\", \"Rank2002\", \"Rank2003\", \"Rank2004\", \"Rank2005\", \"Rank2006\", \"Rank2007\", \"Rank2008\", \"Rank2009\", \"Rank2010\", \"Rank2011\", \"Rank2012\", \"Rank2013\", \"Rank2014\", \"Rank2015\", \"Rank2016\"])\\ndf.columns'"
      ]
     },
     "execution_count": 660,
     "metadata": {},
     "output_type": "execute_result"
    }
   ],
   "source": [
    "'''df = df.drop(columns=[\"Rank2001\", \"Rank2002\", \"Rank2003\", \"Rank2004\", \"Rank2005\", \"Rank2006\", \"Rank2007\", \"Rank2008\", \"Rank2009\", \"Rank2010\", \"Rank2011\", \"Rank2012\", \"Rank2013\", \"Rank2014\", \"Rank2015\", \"Rank2016\"])\n",
    "df.columns'''"
   ]
  },
  {
   "cell_type": "markdown",
   "metadata": {},
   "source": [
    "Same with equity and growth."
   ]
  },
  {
   "cell_type": "code",
   "execution_count": 661,
   "metadata": {},
   "outputs": [
    {
     "data": {
      "text/plain": [
       "'df = df.drop(columns=[\"Equity2001\", \"Equity2002\", \"Equity2003\", \"Equity2004\", \"Equity2005\", \"Equity2006\", \"Equity2007\", \"Equity2008\", \"Equity2009\", \"Equity2010\", \"Equity2011\", \"Equity2012\", \"Equity2013\", \"Equity2014\", \"Equity2015\", \"Equity2016\"])\\ndf.columns'"
      ]
     },
     "execution_count": 661,
     "metadata": {},
     "output_type": "execute_result"
    }
   ],
   "source": [
    "'''df = df.drop(columns=[\"Equity2001\", \"Equity2002\", \"Equity2003\", \"Equity2004\", \"Equity2005\", \"Equity2006\", \"Equity2007\", \"Equity2008\", \"Equity2009\", \"Equity2010\", \"Equity2011\", \"Equity2012\", \"Equity2013\", \"Equity2014\", \"Equity2015\", \"Equity2016\"])\n",
    "df.columns'''"
   ]
  },
  {
   "cell_type": "code",
   "execution_count": 662,
   "metadata": {},
   "outputs": [
    {
     "data": {
      "text/plain": [
       "'df = df.drop(columns=[\"GrowthRate2001\", \"GrowthRate2002\", \"GrowthRate2003\", \"GrowthRate2004\", \"GrowthRate2005\", \"GrowthRate2006\", \"GrowthRate2007\", \"GrowthRate2008\", \"GrowthRate2009\", \"GrowthRate2010\", \"GrowthRate2011\", \"GrowthRate2012\", \"GrowthRate2013\", \"GrowthRate2014\", \"GrowthRate2015\", \"GrowthRate2016\"])\\ndf.columns'"
      ]
     },
     "execution_count": 662,
     "metadata": {},
     "output_type": "execute_result"
    }
   ],
   "source": [
    "'''df = df.drop(columns=[\"GrowthRate2001\", \"GrowthRate2002\", \"GrowthRate2003\", \"GrowthRate2004\", \"GrowthRate2005\", \"GrowthRate2006\", \"GrowthRate2007\", \"GrowthRate2008\", \"GrowthRate2009\", \"GrowthRate2010\", \"GrowthRate2011\", \"GrowthRate2012\", \"GrowthRate2013\", \"GrowthRate2014\", \"GrowthRate2015\", \"GrowthRate2016\"])\n",
    "df.columns'''"
   ]
  },
  {
   "cell_type": "markdown",
   "metadata": {},
   "source": [
    "    ''' It's time to change some column names to make it more comprehensible. '''"
   ]
  },
  {
   "cell_type": "code",
   "execution_count": 663,
   "metadata": {},
   "outputs": [],
   "source": [
    "#df.rename(columns={\"Social Visibility\": \"SocialVisibility2023\"}, inplace=True)"
   ]
  },
  {
   "cell_type": "code",
   "execution_count": 664,
   "metadata": {},
   "outputs": [
    {
     "data": {
      "text/plain": [
       "'df.rename(columns={\"Web Visibility\": \"WebVisibility2023\"}, inplace=True)\\ndf.rename(columns={\"Sentiment\": \"Sentiment2023\"}, inplace=True)\\ndf.rename(columns={\"Growth\": \"Growth2023\"}, inplace=True)\\ndf.rename(columns={\"Search\": \"Search2023\"}, inplace=True)\\ndf.rename(columns={\"Total\": \"Total2023\"}, inplace=True)\\ndf.rename(columns={\"Rank\": \"Rank2023\"}, inplace=True)\\ndf.rename(columns={\"Mcap $\": \"Mcap2023billions\"}, inplace=True)\\ndf.rename(columns={\"Type\": \"pub_priv\"}, inplace=True)\\ndf.rename(columns={\"MFW\": \"MFW2023\"}, inplace=True)\\ndf.rename(columns={\"PWF\": \"PFW2023\"}, inplace=True)\\ndf.rename(columns={\"NYFF\": \"NYFW2023\"}, inplace=True)'"
      ]
     },
     "execution_count": 664,
     "metadata": {},
     "output_type": "execute_result"
    }
   ],
   "source": [
    "'''df.rename(columns={\"Web Visibility\": \"WebVisibility2023\"}, inplace=True)\n",
    "df.rename(columns={\"Sentiment\": \"Sentiment2023\"}, inplace=True)\n",
    "df.rename(columns={\"Growth\": \"Growth2023\"}, inplace=True)\n",
    "df.rename(columns={\"Search\": \"Search2023\"}, inplace=True)\n",
    "df.rename(columns={\"Total\": \"Total2023\"}, inplace=True)\n",
    "df.rename(columns={\"Rank\": \"Rank2023\"}, inplace=True)\n",
    "df.rename(columns={\"Mcap $\": \"Mcap2023billions\"}, inplace=True)\n",
    "df.rename(columns={\"Type\": \"pub_priv\"}, inplace=True)\n",
    "df.rename(columns={\"MFW\": \"MFW2023\"}, inplace=True)\n",
    "df.rename(columns={\"PWF\": \"PFW2023\"}, inplace=True)\n",
    "df.rename(columns={\"NYFF\": \"NYFW2023\"}, inplace=True)'''"
   ]
  },
  {
   "cell_type": "code",
   "execution_count": 665,
   "metadata": {},
   "outputs": [],
   "source": [
    "#df"
   ]
  },
  {
   "cell_type": "markdown",
   "metadata": {},
   "source": [
    "## Encapsulate ##"
   ]
  },
  {
   "cell_type": "markdown",
   "metadata": {},
   "source": [
    "''' Also decided to drop Brand Sector and Subsector as there's only going to be a unique value, because this project only targets a Sector and Subsector, those being Fashion and Luxury.'''"
   ]
  },
  {
   "cell_type": "code",
   "execution_count": 666,
   "metadata": {},
   "outputs": [],
   "source": [
    "\n",
    "def clean_dataset (df):\n",
    "\n",
    "    ''' Function containing all the first cleaning steps for this dataset.'''\n",
    "\n",
    "    df.drop(columns=[\"Unnamed: 0.1\", \"Unnamed: 0\"], inplace=True)\n",
    "    dropping_rows = [24, 18, 12]\n",
    "    df.drop(index=dropping_rows, inplace=True)\n",
    "    df.reset_index(drop=True, inplace=True)\n",
    "    df.drop(columns=[\"Rank2001\", \"Rank2002\", \"Rank2003\", \"Rank2004\", \"Rank2005\", \"Rank2006\", \"Rank2007\", \"Rank2008\", \"Rank2009\", \"Rank2010\", \"Rank2011\", \"Rank2012\", \"Rank2013\", \"Rank2014\", \"Rank2015\", \"Rank2016\"], inplace=True)\n",
    "    df.drop(columns=[\"Equity2001\", \"Equity2002\", \"Equity2003\", \"Equity2004\", \"Equity2005\", \"Equity2006\", \"Equity2007\", \"Equity2008\", \"Equity2009\", \"Equity2010\", \"Equity2011\", \"Equity2012\", \"Equity2013\", \"Equity2014\", \"Equity2015\", \"Equity2016\"], inplace=True)\n",
    "    df.drop(columns=[\"GrowthRate2001\", \"GrowthRate2002\", \"GrowthRate2003\", \"GrowthRate2004\", \"GrowthRate2005\", \"GrowthRate2006\", \"GrowthRate2007\", \"GrowthRate2008\", \"GrowthRate2009\", \"GrowthRate2010\", \"GrowthRate2011\", \"GrowthRate2012\", \"GrowthRate2013\", \"GrowthRate2014\", \"GrowthRate2015\", \"GrowthRate2016\"], inplace=True)\n",
    "    df.drop(columns=[\"Rank\", \"BrandSector\", \"BrandSubSector\"], inplace=True)\n",
    "    df.rename(columns={\"Social Visibility\": \"SocialVisibility2023\"}, inplace=True)\n",
    "    df.rename(columns={\"Web Visibility\": \"WebVisibility2023\"}, inplace=True)\n",
    "    df.rename(columns={\"Sentiment\": \"Sentiment2023\"}, inplace=True)\n",
    "    df.rename(columns={\"Growth\": \"Growth2023\"}, inplace=True)\n",
    "    df.rename(columns={\"Search\": \"Search2023\"}, inplace=True)\n",
    "    df.rename(columns={\"Total\": \"Rank2023\"}, inplace=True)\n",
    "    df.rename(columns={\"Mcap $\": \"Mcap2023billions\"}, inplace=True)\n",
    "    df.rename(columns={\"Type\": \"pub_priv\"}, inplace=True)\n",
    "    df.rename(columns={\"MFW\": \"MFW2023\"}, inplace=True)\n",
    "    df.rename(columns={\"PWF\": \"PFW2023\"}, inplace=True)\n",
    "    df.rename(columns={\"NYFF\": \"NYFW2023\"}, inplace=True)\n",
    "    \n",
    "    return df"
   ]
  },
  {
   "cell_type": "code",
   "execution_count": 667,
   "metadata": {},
   "outputs": [
    {
     "ename": "KeyError",
     "evalue": "\"['Unnamed: 0.1'] not found in axis\"",
     "output_type": "error",
     "traceback": [
      "\u001b[0;31m---------------------------------------------------------------------------\u001b[0m",
      "\u001b[0;31mKeyError\u001b[0m                                  Traceback (most recent call last)",
      "Cell \u001b[0;32mIn[667], line 1\u001b[0m\n\u001b[0;32m----> 1\u001b[0m clean_df \u001b[39m=\u001b[39m clean_dataset(df)\n\u001b[1;32m      2\u001b[0m clean_df\u001b[39m.\u001b[39msample(\u001b[39m3\u001b[39m)\n",
      "Cell \u001b[0;32mIn[666], line 5\u001b[0m, in \u001b[0;36mclean_dataset\u001b[0;34m(df)\u001b[0m\n\u001b[1;32m      1\u001b[0m \u001b[39mdef\u001b[39;00m \u001b[39mclean_dataset\u001b[39m (df):\n\u001b[1;32m      3\u001b[0m \u001b[39m    \u001b[39m\u001b[39m''' Function containing all the first cleaning steps for this dataset.'''\u001b[39;00m\n\u001b[0;32m----> 5\u001b[0m     df\u001b[39m.\u001b[39mdrop(columns\u001b[39m=\u001b[39m[\u001b[39m\"\u001b[39m\u001b[39mUnnamed: 0.1\u001b[39m\u001b[39m\"\u001b[39m, \u001b[39m\"\u001b[39m\u001b[39mUnnamed: 0\u001b[39m\u001b[39m\"\u001b[39m], inplace\u001b[39m=\u001b[39m\u001b[39mTrue\u001b[39;00m)\n\u001b[1;32m      6\u001b[0m     dropping_rows \u001b[39m=\u001b[39m [\u001b[39m24\u001b[39m, \u001b[39m18\u001b[39m, \u001b[39m12\u001b[39m]\n\u001b[1;32m      7\u001b[0m     df\u001b[39m.\u001b[39mdrop(index\u001b[39m=\u001b[39mdropping_rows, inplace\u001b[39m=\u001b[39m\u001b[39mTrue\u001b[39;00m)\n",
      "File \u001b[0;32m~/miniconda3/envs/ironhack/lib/python3.11/site-packages/pandas/core/frame.py:5347\u001b[0m, in \u001b[0;36mDataFrame.drop\u001b[0;34m(self, labels, axis, index, columns, level, inplace, errors)\u001b[0m\n\u001b[1;32m   5199\u001b[0m \u001b[39mdef\u001b[39;00m \u001b[39mdrop\u001b[39m(\n\u001b[1;32m   5200\u001b[0m     \u001b[39mself\u001b[39m,\n\u001b[1;32m   5201\u001b[0m     labels: IndexLabel \u001b[39m|\u001b[39m \u001b[39mNone\u001b[39;00m \u001b[39m=\u001b[39m \u001b[39mNone\u001b[39;00m,\n\u001b[0;32m   (...)\u001b[0m\n\u001b[1;32m   5208\u001b[0m     errors: IgnoreRaise \u001b[39m=\u001b[39m \u001b[39m\"\u001b[39m\u001b[39mraise\u001b[39m\u001b[39m\"\u001b[39m,\n\u001b[1;32m   5209\u001b[0m ) \u001b[39m-\u001b[39m\u001b[39m>\u001b[39m DataFrame \u001b[39m|\u001b[39m \u001b[39mNone\u001b[39;00m:\n\u001b[1;32m   5210\u001b[0m \u001b[39m    \u001b[39m\u001b[39m\"\"\"\u001b[39;00m\n\u001b[1;32m   5211\u001b[0m \u001b[39m    Drop specified labels from rows or columns.\u001b[39;00m\n\u001b[1;32m   5212\u001b[0m \n\u001b[0;32m   (...)\u001b[0m\n\u001b[1;32m   5345\u001b[0m \u001b[39m            weight  1.0     0.8\u001b[39;00m\n\u001b[1;32m   5346\u001b[0m \u001b[39m    \"\"\"\u001b[39;00m\n\u001b[0;32m-> 5347\u001b[0m     \u001b[39mreturn\u001b[39;00m \u001b[39msuper\u001b[39m()\u001b[39m.\u001b[39mdrop(\n\u001b[1;32m   5348\u001b[0m         labels\u001b[39m=\u001b[39mlabels,\n\u001b[1;32m   5349\u001b[0m         axis\u001b[39m=\u001b[39maxis,\n\u001b[1;32m   5350\u001b[0m         index\u001b[39m=\u001b[39mindex,\n\u001b[1;32m   5351\u001b[0m         columns\u001b[39m=\u001b[39mcolumns,\n\u001b[1;32m   5352\u001b[0m         level\u001b[39m=\u001b[39mlevel,\n\u001b[1;32m   5353\u001b[0m         inplace\u001b[39m=\u001b[39minplace,\n\u001b[1;32m   5354\u001b[0m         errors\u001b[39m=\u001b[39merrors,\n\u001b[1;32m   5355\u001b[0m     )\n",
      "File \u001b[0;32m~/miniconda3/envs/ironhack/lib/python3.11/site-packages/pandas/core/generic.py:4711\u001b[0m, in \u001b[0;36mNDFrame.drop\u001b[0;34m(self, labels, axis, index, columns, level, inplace, errors)\u001b[0m\n\u001b[1;32m   4709\u001b[0m \u001b[39mfor\u001b[39;00m axis, labels \u001b[39min\u001b[39;00m axes\u001b[39m.\u001b[39mitems():\n\u001b[1;32m   4710\u001b[0m     \u001b[39mif\u001b[39;00m labels \u001b[39mis\u001b[39;00m \u001b[39mnot\u001b[39;00m \u001b[39mNone\u001b[39;00m:\n\u001b[0;32m-> 4711\u001b[0m         obj \u001b[39m=\u001b[39m obj\u001b[39m.\u001b[39m_drop_axis(labels, axis, level\u001b[39m=\u001b[39mlevel, errors\u001b[39m=\u001b[39merrors)\n\u001b[1;32m   4713\u001b[0m \u001b[39mif\u001b[39;00m inplace:\n\u001b[1;32m   4714\u001b[0m     \u001b[39mself\u001b[39m\u001b[39m.\u001b[39m_update_inplace(obj)\n",
      "File \u001b[0;32m~/miniconda3/envs/ironhack/lib/python3.11/site-packages/pandas/core/generic.py:4753\u001b[0m, in \u001b[0;36mNDFrame._drop_axis\u001b[0;34m(self, labels, axis, level, errors, only_slice)\u001b[0m\n\u001b[1;32m   4751\u001b[0m         new_axis \u001b[39m=\u001b[39m axis\u001b[39m.\u001b[39mdrop(labels, level\u001b[39m=\u001b[39mlevel, errors\u001b[39m=\u001b[39merrors)\n\u001b[1;32m   4752\u001b[0m     \u001b[39melse\u001b[39;00m:\n\u001b[0;32m-> 4753\u001b[0m         new_axis \u001b[39m=\u001b[39m axis\u001b[39m.\u001b[39mdrop(labels, errors\u001b[39m=\u001b[39merrors)\n\u001b[1;32m   4754\u001b[0m     indexer \u001b[39m=\u001b[39m axis\u001b[39m.\u001b[39mget_indexer(new_axis)\n\u001b[1;32m   4756\u001b[0m \u001b[39m# Case for non-unique axis\u001b[39;00m\n\u001b[1;32m   4757\u001b[0m \u001b[39melse\u001b[39;00m:\n",
      "File \u001b[0;32m~/miniconda3/envs/ironhack/lib/python3.11/site-packages/pandas/core/indexes/base.py:6992\u001b[0m, in \u001b[0;36mIndex.drop\u001b[0;34m(self, labels, errors)\u001b[0m\n\u001b[1;32m   6990\u001b[0m \u001b[39mif\u001b[39;00m mask\u001b[39m.\u001b[39many():\n\u001b[1;32m   6991\u001b[0m     \u001b[39mif\u001b[39;00m errors \u001b[39m!=\u001b[39m \u001b[39m\"\u001b[39m\u001b[39mignore\u001b[39m\u001b[39m\"\u001b[39m:\n\u001b[0;32m-> 6992\u001b[0m         \u001b[39mraise\u001b[39;00m \u001b[39mKeyError\u001b[39;00m(\u001b[39mf\u001b[39m\u001b[39m\"\u001b[39m\u001b[39m{\u001b[39;00mlabels[mask]\u001b[39m.\u001b[39mtolist()\u001b[39m}\u001b[39;00m\u001b[39m not found in axis\u001b[39m\u001b[39m\"\u001b[39m)\n\u001b[1;32m   6993\u001b[0m     indexer \u001b[39m=\u001b[39m indexer[\u001b[39m~\u001b[39mmask]\n\u001b[1;32m   6994\u001b[0m \u001b[39mreturn\u001b[39;00m \u001b[39mself\u001b[39m\u001b[39m.\u001b[39mdelete(indexer)\n",
      "\u001b[0;31mKeyError\u001b[0m: \"['Unnamed: 0.1'] not found in axis\""
     ]
    }
   ],
   "source": [
    "clean_df = clean_dataset(df)\n",
    "clean_df.sample(3)"
   ]
  },
  {
   "cell_type": "markdown",
   "metadata": {},
   "source": [
    "## Confirm data type and change if needed ##"
   ]
  },
  {
   "cell_type": "code",
   "execution_count": null,
   "metadata": {},
   "outputs": [
    {
     "data": {
      "text/plain": [
       "dtype('float64')"
      ]
     },
     "execution_count": 643,
     "metadata": {},
     "output_type": "execute_result"
    }
   ],
   "source": [
    "clean_df[\"Rank2017\"].dtype"
   ]
  },
  {
   "cell_type": "code",
   "execution_count": null,
   "metadata": {},
   "outputs": [
    {
     "data": {
      "text/plain": [
       "dtype('float64')"
      ]
     },
     "execution_count": 644,
     "metadata": {},
     "output_type": "execute_result"
    }
   ],
   "source": [
    "clean_df[\"Equity2017\"].dtype"
   ]
  },
  {
   "cell_type": "code",
   "execution_count": null,
   "metadata": {},
   "outputs": [
    {
     "data": {
      "text/plain": [
       "dtype('float64')"
      ]
     },
     "execution_count": 645,
     "metadata": {},
     "output_type": "execute_result"
    }
   ],
   "source": [
    "clean_df[\"GrowthRate2017\"].dtype"
   ]
  },
  {
   "cell_type": "code",
   "execution_count": null,
   "metadata": {},
   "outputs": [
    {
     "data": {
      "text/plain": [
       "dtype('float64')"
      ]
     },
     "execution_count": 646,
     "metadata": {},
     "output_type": "execute_result"
    }
   ],
   "source": [
    "clean_df[\"WebVisibility2023\"].dtype"
   ]
  },
  {
   "cell_type": "code",
   "execution_count": null,
   "metadata": {},
   "outputs": [
    {
     "data": {
      "text/plain": [
       "dtype('float64')"
      ]
     },
     "execution_count": 647,
     "metadata": {},
     "output_type": "execute_result"
    }
   ],
   "source": [
    "clean_df[\"Sentiment2023\"].dtype"
   ]
  },
  {
   "cell_type": "code",
   "execution_count": null,
   "metadata": {},
   "outputs": [
    {
     "data": {
      "text/plain": [
       "dtype('float64')"
      ]
     },
     "execution_count": 648,
     "metadata": {},
     "output_type": "execute_result"
    }
   ],
   "source": [
    "clean_df[\"Rank2023\"].dtype"
   ]
  },
  {
   "cell_type": "code",
   "execution_count": null,
   "metadata": {},
   "outputs": [
    {
     "data": {
      "text/plain": [
       "dtype('O')"
      ]
     },
     "execution_count": 649,
     "metadata": {},
     "output_type": "execute_result"
    }
   ],
   "source": [
    "clean_df[\"Mcap2023billions\"].dtype"
   ]
  },
  {
   "cell_type": "markdown",
   "metadata": {},
   "source": [
    "    ''' Only need to change the \"Mcap2023billions\" to be a float.'''"
   ]
  },
  {
   "cell_type": "code",
   "execution_count": null,
   "metadata": {},
   "outputs": [],
   "source": [
    "\n",
    "def clean_cap(cap):\n",
    "\n",
    "    ''' Function to extract digits and transform them to floats.'''\n",
    "\n",
    "    p_match = re.search(r'\\$?(\\d+\\.\\d+)\\s*b', str(cap))\n",
    "    if p_match:\n",
    "        digit = p_match.group(1)\n",
    "        return float(digit)\n",
    "    else:\n",
    "        return 'unknown'"
   ]
  },
  {
   "cell_type": "code",
   "execution_count": null,
   "metadata": {},
   "outputs": [],
   "source": [
    "#clean_df[\"Mcap2023billions\"] = clean_df[\"Mcap2023billions\"].apply(clean_cap)\n",
    "#clean_df"
   ]
  },
  {
   "cell_type": "code",
   "execution_count": null,
   "metadata": {},
   "outputs": [],
   "source": [
    "\n",
    "def extract_clean(clean_df):\n",
    "\n",
    "    ''' Function to apply the regex function to the Market Capitalization and then save the final df to csv.'''\n",
    "\n",
    "    clean_df[\"Mcap2023billions\"] = clean_df[\"Mcap2023billions\"].apply(clean_cap)\n",
    "    clean_df.to_csv(f\"../data/Luxury_Fashion.csv\", index=False)\n",
    "    return clean_df"
   ]
  },
  {
   "cell_type": "code",
   "execution_count": null,
   "metadata": {},
   "outputs": [
    {
     "data": {
      "text/html": [
       "<div>\n",
       "<style scoped>\n",
       "    .dataframe tbody tr th:only-of-type {\n",
       "        vertical-align: middle;\n",
       "    }\n",
       "\n",
       "    .dataframe tbody tr th {\n",
       "        vertical-align: top;\n",
       "    }\n",
       "\n",
       "    .dataframe thead th {\n",
       "        text-align: right;\n",
       "    }\n",
       "</style>\n",
       "<table border=\"1\" class=\"dataframe\">\n",
       "  <thead>\n",
       "    <tr style=\"text-align: right;\">\n",
       "      <th></th>\n",
       "      <th>Brand</th>\n",
       "      <th>BrandOriginCountry</th>\n",
       "      <th>BrandOriginRegion</th>\n",
       "      <th>Rank2017</th>\n",
       "      <th>Rank2018</th>\n",
       "      <th>Rank2019</th>\n",
       "      <th>Rank2020</th>\n",
       "      <th>Rank2021</th>\n",
       "      <th>Equity2017</th>\n",
       "      <th>Equity2018</th>\n",
       "      <th>...</th>\n",
       "      <th>WebVisibility2023</th>\n",
       "      <th>Sentiment2023</th>\n",
       "      <th>Growth2023</th>\n",
       "      <th>Search2023</th>\n",
       "      <th>Rank2023</th>\n",
       "      <th>Mcap2023billions</th>\n",
       "      <th>pub_priv</th>\n",
       "      <th>MFW2023</th>\n",
       "      <th>PFW2023</th>\n",
       "      <th>NYFW2023</th>\n",
       "    </tr>\n",
       "  </thead>\n",
       "  <tbody>\n",
       "    <tr>\n",
       "      <th>22</th>\n",
       "      <td>Salvatore Ferragamo</td>\n",
       "      <td>NaN</td>\n",
       "      <td>NaN</td>\n",
       "      <td>NaN</td>\n",
       "      <td>NaN</td>\n",
       "      <td>NaN</td>\n",
       "      <td>NaN</td>\n",
       "      <td>NaN</td>\n",
       "      <td>NaN</td>\n",
       "      <td>NaN</td>\n",
       "      <td>...</td>\n",
       "      <td>8.06</td>\n",
       "      <td>54.06</td>\n",
       "      <td>9.64</td>\n",
       "      <td>5.13</td>\n",
       "      <td>78.51</td>\n",
       "      <td>2.48</td>\n",
       "      <td>Public</td>\n",
       "      <td>no</td>\n",
       "      <td>no</td>\n",
       "      <td>no</td>\n",
       "    </tr>\n",
       "    <tr>\n",
       "      <th>8</th>\n",
       "      <td>Calvin Klein</td>\n",
       "      <td>NaN</td>\n",
       "      <td>NaN</td>\n",
       "      <td>NaN</td>\n",
       "      <td>NaN</td>\n",
       "      <td>NaN</td>\n",
       "      <td>NaN</td>\n",
       "      <td>NaN</td>\n",
       "      <td>NaN</td>\n",
       "      <td>NaN</td>\n",
       "      <td>...</td>\n",
       "      <td>22.25</td>\n",
       "      <td>62.08</td>\n",
       "      <td>8.06</td>\n",
       "      <td>50.99</td>\n",
       "      <td>157.13</td>\n",
       "      <td>unknown</td>\n",
       "      <td>NaN</td>\n",
       "      <td>no</td>\n",
       "      <td>no</td>\n",
       "      <td>no</td>\n",
       "    </tr>\n",
       "    <tr>\n",
       "      <th>3</th>\n",
       "      <td>Chanel</td>\n",
       "      <td>France</td>\n",
       "      <td>Europe</td>\n",
       "      <td>NaN</td>\n",
       "      <td>23.0</td>\n",
       "      <td>22.0</td>\n",
       "      <td>21.0</td>\n",
       "      <td>22.0</td>\n",
       "      <td>NaN</td>\n",
       "      <td>20005.0</td>\n",
       "      <td>...</td>\n",
       "      <td>90.20</td>\n",
       "      <td>48.21</td>\n",
       "      <td>2.68</td>\n",
       "      <td>30.78</td>\n",
       "      <td>243.13</td>\n",
       "      <td>57.46</td>\n",
       "      <td>Private</td>\n",
       "      <td>no</td>\n",
       "      <td>yes</td>\n",
       "      <td>yes</td>\n",
       "    </tr>\n",
       "    <tr>\n",
       "      <th>16</th>\n",
       "      <td>Yves Saint Laurent</td>\n",
       "      <td>NaN</td>\n",
       "      <td>NaN</td>\n",
       "      <td>NaN</td>\n",
       "      <td>NaN</td>\n",
       "      <td>NaN</td>\n",
       "      <td>NaN</td>\n",
       "      <td>NaN</td>\n",
       "      <td>NaN</td>\n",
       "      <td>NaN</td>\n",
       "      <td>...</td>\n",
       "      <td>33.01</td>\n",
       "      <td>36.31</td>\n",
       "      <td>0.00</td>\n",
       "      <td>11.54</td>\n",
       "      <td>102.60</td>\n",
       "      <td>unknown</td>\n",
       "      <td>NaN</td>\n",
       "      <td>no</td>\n",
       "      <td>no</td>\n",
       "      <td>no</td>\n",
       "    </tr>\n",
       "    <tr>\n",
       "      <th>17</th>\n",
       "      <td>Jovani</td>\n",
       "      <td>NaN</td>\n",
       "      <td>NaN</td>\n",
       "      <td>NaN</td>\n",
       "      <td>NaN</td>\n",
       "      <td>NaN</td>\n",
       "      <td>NaN</td>\n",
       "      <td>NaN</td>\n",
       "      <td>NaN</td>\n",
       "      <td>NaN</td>\n",
       "      <td>...</td>\n",
       "      <td>0.87</td>\n",
       "      <td>72.29</td>\n",
       "      <td>10.29</td>\n",
       "      <td>1.77</td>\n",
       "      <td>85.55</td>\n",
       "      <td>unknown</td>\n",
       "      <td>NaN</td>\n",
       "      <td>no</td>\n",
       "      <td>no</td>\n",
       "      <td>no</td>\n",
       "    </tr>\n",
       "    <tr>\n",
       "      <th>5</th>\n",
       "      <td>Prada</td>\n",
       "      <td>Italy</td>\n",
       "      <td>Europe</td>\n",
       "      <td>94.0</td>\n",
       "      <td>95.0</td>\n",
       "      <td>100.0</td>\n",
       "      <td>99.0</td>\n",
       "      <td>94.0</td>\n",
       "      <td>4716.0</td>\n",
       "      <td>4812.0</td>\n",
       "      <td>...</td>\n",
       "      <td>34.19</td>\n",
       "      <td>38.19</td>\n",
       "      <td>56.09</td>\n",
       "      <td>16.69</td>\n",
       "      <td>166.68</td>\n",
       "      <td>12.0</td>\n",
       "      <td>Public</td>\n",
       "      <td>yes</td>\n",
       "      <td>no</td>\n",
       "      <td>yes</td>\n",
       "    </tr>\n",
       "    <tr>\n",
       "      <th>6</th>\n",
       "      <td>Fendi</td>\n",
       "      <td>NaN</td>\n",
       "      <td>NaN</td>\n",
       "      <td>NaN</td>\n",
       "      <td>NaN</td>\n",
       "      <td>NaN</td>\n",
       "      <td>NaN</td>\n",
       "      <td>NaN</td>\n",
       "      <td>NaN</td>\n",
       "      <td>NaN</td>\n",
       "      <td>...</td>\n",
       "      <td>14.63</td>\n",
       "      <td>58.47</td>\n",
       "      <td>65.87</td>\n",
       "      <td>16.09</td>\n",
       "      <td>165.80</td>\n",
       "      <td>unknown</td>\n",
       "      <td>NaN</td>\n",
       "      <td>yes</td>\n",
       "      <td>no</td>\n",
       "      <td>yes</td>\n",
       "    </tr>\n",
       "    <tr>\n",
       "      <th>14</th>\n",
       "      <td>Tory Burch</td>\n",
       "      <td>NaN</td>\n",
       "      <td>NaN</td>\n",
       "      <td>NaN</td>\n",
       "      <td>NaN</td>\n",
       "      <td>NaN</td>\n",
       "      <td>NaN</td>\n",
       "      <td>NaN</td>\n",
       "      <td>NaN</td>\n",
       "      <td>NaN</td>\n",
       "      <td>...</td>\n",
       "      <td>5.56</td>\n",
       "      <td>79.04</td>\n",
       "      <td>0.00</td>\n",
       "      <td>25.57</td>\n",
       "      <td>112.29</td>\n",
       "      <td>5.16</td>\n",
       "      <td>Private</td>\n",
       "      <td>no</td>\n",
       "      <td>no</td>\n",
       "      <td>yes</td>\n",
       "    </tr>\n",
       "    <tr>\n",
       "      <th>4</th>\n",
       "      <td>Coach</td>\n",
       "      <td>NaN</td>\n",
       "      <td>NaN</td>\n",
       "      <td>NaN</td>\n",
       "      <td>NaN</td>\n",
       "      <td>NaN</td>\n",
       "      <td>NaN</td>\n",
       "      <td>NaN</td>\n",
       "      <td>NaN</td>\n",
       "      <td>NaN</td>\n",
       "      <td>...</td>\n",
       "      <td>56.64</td>\n",
       "      <td>64.26</td>\n",
       "      <td>0.00</td>\n",
       "      <td>41.18</td>\n",
       "      <td>171.37</td>\n",
       "      <td>unknown</td>\n",
       "      <td>NaN</td>\n",
       "      <td>no</td>\n",
       "      <td>no</td>\n",
       "      <td>yes</td>\n",
       "    </tr>\n",
       "    <tr>\n",
       "      <th>21</th>\n",
       "      <td>DKNY</td>\n",
       "      <td>NaN</td>\n",
       "      <td>NaN</td>\n",
       "      <td>NaN</td>\n",
       "      <td>NaN</td>\n",
       "      <td>NaN</td>\n",
       "      <td>NaN</td>\n",
       "      <td>NaN</td>\n",
       "      <td>NaN</td>\n",
       "      <td>NaN</td>\n",
       "      <td>...</td>\n",
       "      <td>4.49</td>\n",
       "      <td>67.95</td>\n",
       "      <td>0.00</td>\n",
       "      <td>6.38</td>\n",
       "      <td>80.20</td>\n",
       "      <td>unknown</td>\n",
       "      <td>NaN</td>\n",
       "      <td>no</td>\n",
       "      <td>no</td>\n",
       "      <td>no</td>\n",
       "    </tr>\n",
       "    <tr>\n",
       "      <th>10</th>\n",
       "      <td>Versace</td>\n",
       "      <td>NaN</td>\n",
       "      <td>NaN</td>\n",
       "      <td>NaN</td>\n",
       "      <td>NaN</td>\n",
       "      <td>NaN</td>\n",
       "      <td>NaN</td>\n",
       "      <td>NaN</td>\n",
       "      <td>NaN</td>\n",
       "      <td>NaN</td>\n",
       "      <td>...</td>\n",
       "      <td>28.79</td>\n",
       "      <td>39.09</td>\n",
       "      <td>13.95</td>\n",
       "      <td>30.17</td>\n",
       "      <td>133.68</td>\n",
       "      <td>unknown</td>\n",
       "      <td>NaN</td>\n",
       "      <td>no</td>\n",
       "      <td>no</td>\n",
       "      <td>yes</td>\n",
       "    </tr>\n",
       "    <tr>\n",
       "      <th>15</th>\n",
       "      <td>Armani</td>\n",
       "      <td>Italy</td>\n",
       "      <td>Europe</td>\n",
       "      <td>NaN</td>\n",
       "      <td>NaN</td>\n",
       "      <td>NaN</td>\n",
       "      <td>NaN</td>\n",
       "      <td>NaN</td>\n",
       "      <td>NaN</td>\n",
       "      <td>NaN</td>\n",
       "      <td>...</td>\n",
       "      <td>27.52</td>\n",
       "      <td>53.71</td>\n",
       "      <td>6.49</td>\n",
       "      <td>11.69</td>\n",
       "      <td>106.71</td>\n",
       "      <td>14.7</td>\n",
       "      <td>Private</td>\n",
       "      <td>no</td>\n",
       "      <td>no</td>\n",
       "      <td>no</td>\n",
       "    </tr>\n",
       "    <tr>\n",
       "      <th>13</th>\n",
       "      <td>Ralph Lauren</td>\n",
       "      <td>NaN</td>\n",
       "      <td>NaN</td>\n",
       "      <td>NaN</td>\n",
       "      <td>NaN</td>\n",
       "      <td>NaN</td>\n",
       "      <td>NaN</td>\n",
       "      <td>NaN</td>\n",
       "      <td>NaN</td>\n",
       "      <td>NaN</td>\n",
       "      <td>...</td>\n",
       "      <td>26.28</td>\n",
       "      <td>37.34</td>\n",
       "      <td>0.00</td>\n",
       "      <td>47.83</td>\n",
       "      <td>119.84</td>\n",
       "      <td>5.89</td>\n",
       "      <td>Public</td>\n",
       "      <td>no</td>\n",
       "      <td>no</td>\n",
       "      <td>yes</td>\n",
       "    </tr>\n",
       "    <tr>\n",
       "      <th>0</th>\n",
       "      <td>Hermes</td>\n",
       "      <td>France</td>\n",
       "      <td>Europe</td>\n",
       "      <td>32.0</td>\n",
       "      <td>32.0</td>\n",
       "      <td>28.0</td>\n",
       "      <td>28.0</td>\n",
       "      <td>23.0</td>\n",
       "      <td>14210.0</td>\n",
       "      <td>16372.0</td>\n",
       "      <td>...</td>\n",
       "      <td>67.57</td>\n",
       "      <td>100.00</td>\n",
       "      <td>100.00</td>\n",
       "      <td>87.88</td>\n",
       "      <td>373.85</td>\n",
       "      <td>130.4</td>\n",
       "      <td>Public</td>\n",
       "      <td>no</td>\n",
       "      <td>yes</td>\n",
       "      <td>no</td>\n",
       "    </tr>\n",
       "    <tr>\n",
       "      <th>20</th>\n",
       "      <td>Chloe</td>\n",
       "      <td>NaN</td>\n",
       "      <td>NaN</td>\n",
       "      <td>NaN</td>\n",
       "      <td>NaN</td>\n",
       "      <td>NaN</td>\n",
       "      <td>NaN</td>\n",
       "      <td>NaN</td>\n",
       "      <td>NaN</td>\n",
       "      <td>NaN</td>\n",
       "      <td>...</td>\n",
       "      <td>11.01</td>\n",
       "      <td>58.93</td>\n",
       "      <td>0.00</td>\n",
       "      <td>9.85</td>\n",
       "      <td>82.24</td>\n",
       "      <td>unknown</td>\n",
       "      <td>NaN</td>\n",
       "      <td>no</td>\n",
       "      <td>yes</td>\n",
       "      <td>no</td>\n",
       "    </tr>\n",
       "  </tbody>\n",
       "</table>\n",
       "<p>15 rows × 29 columns</p>\n",
       "</div>"
      ],
      "text/plain": [
       "                  Brand BrandOriginCountry BrandOriginRegion  Rank2017  \\\n",
       "22  Salvatore Ferragamo                NaN               NaN       NaN   \n",
       "8          Calvin Klein                NaN               NaN       NaN   \n",
       "3                Chanel             France            Europe       NaN   \n",
       "16   Yves Saint Laurent                NaN               NaN       NaN   \n",
       "17               Jovani                NaN               NaN       NaN   \n",
       "5                 Prada              Italy            Europe      94.0   \n",
       "6                 Fendi                NaN               NaN       NaN   \n",
       "14           Tory Burch                NaN               NaN       NaN   \n",
       "4                 Coach                NaN               NaN       NaN   \n",
       "21                 DKNY                NaN               NaN       NaN   \n",
       "10              Versace                NaN               NaN       NaN   \n",
       "15               Armani              Italy            Europe       NaN   \n",
       "13         Ralph Lauren                NaN               NaN       NaN   \n",
       "0                Hermes             France            Europe      32.0   \n",
       "20                Chloe                NaN               NaN       NaN   \n",
       "\n",
       "    Rank2018  Rank2019  Rank2020  Rank2021  Equity2017  Equity2018  ...  \\\n",
       "22       NaN       NaN       NaN       NaN         NaN         NaN  ...   \n",
       "8        NaN       NaN       NaN       NaN         NaN         NaN  ...   \n",
       "3       23.0      22.0      21.0      22.0         NaN     20005.0  ...   \n",
       "16       NaN       NaN       NaN       NaN         NaN         NaN  ...   \n",
       "17       NaN       NaN       NaN       NaN         NaN         NaN  ...   \n",
       "5       95.0     100.0      99.0      94.0      4716.0      4812.0  ...   \n",
       "6        NaN       NaN       NaN       NaN         NaN         NaN  ...   \n",
       "14       NaN       NaN       NaN       NaN         NaN         NaN  ...   \n",
       "4        NaN       NaN       NaN       NaN         NaN         NaN  ...   \n",
       "21       NaN       NaN       NaN       NaN         NaN         NaN  ...   \n",
       "10       NaN       NaN       NaN       NaN         NaN         NaN  ...   \n",
       "15       NaN       NaN       NaN       NaN         NaN         NaN  ...   \n",
       "13       NaN       NaN       NaN       NaN         NaN         NaN  ...   \n",
       "0       32.0      28.0      28.0      23.0     14210.0     16372.0  ...   \n",
       "20       NaN       NaN       NaN       NaN         NaN         NaN  ...   \n",
       "\n",
       "    WebVisibility2023  Sentiment2023  Growth2023  Search2023  Rank2023  \\\n",
       "22               8.06          54.06        9.64        5.13     78.51   \n",
       "8               22.25          62.08        8.06       50.99    157.13   \n",
       "3               90.20          48.21        2.68       30.78    243.13   \n",
       "16              33.01          36.31        0.00       11.54    102.60   \n",
       "17               0.87          72.29       10.29        1.77     85.55   \n",
       "5               34.19          38.19       56.09       16.69    166.68   \n",
       "6               14.63          58.47       65.87       16.09    165.80   \n",
       "14               5.56          79.04        0.00       25.57    112.29   \n",
       "4               56.64          64.26        0.00       41.18    171.37   \n",
       "21               4.49          67.95        0.00        6.38     80.20   \n",
       "10              28.79          39.09       13.95       30.17    133.68   \n",
       "15              27.52          53.71        6.49       11.69    106.71   \n",
       "13              26.28          37.34        0.00       47.83    119.84   \n",
       "0               67.57         100.00      100.00       87.88    373.85   \n",
       "20              11.01          58.93        0.00        9.85     82.24   \n",
       "\n",
       "    Mcap2023billions  pub_priv  MFW2023  PFW2023  NYFW2023  \n",
       "22              2.48    Public       no       no        no  \n",
       "8            unknown       NaN       no       no        no  \n",
       "3              57.46   Private       no      yes       yes  \n",
       "16           unknown       NaN       no       no        no  \n",
       "17           unknown       NaN       no       no        no  \n",
       "5               12.0    Public      yes       no       yes  \n",
       "6            unknown       NaN      yes       no       yes  \n",
       "14              5.16   Private       no       no       yes  \n",
       "4            unknown       NaN       no       no       yes  \n",
       "21           unknown       NaN       no       no        no  \n",
       "10           unknown       NaN       no       no       yes  \n",
       "15              14.7   Private       no       no        no  \n",
       "13              5.89    Public       no       no       yes  \n",
       "0              130.4    Public       no      yes        no  \n",
       "20           unknown       NaN       no      yes        no  \n",
       "\n",
       "[15 rows x 29 columns]"
      ]
     },
     "execution_count": 653,
     "metadata": {},
     "output_type": "execute_result"
    }
   ],
   "source": [
    "lf = extract_clean(clean_df)\n",
    "lf.sample(15)"
   ]
  },
  {
   "cell_type": "code",
   "execution_count": null,
   "metadata": {},
   "outputs": [],
   "source": []
  }
 ],
 "metadata": {
  "kernelspec": {
   "display_name": "ironhack",
   "language": "python",
   "name": "python3"
  },
  "language_info": {
   "codemirror_mode": {
    "name": "ipython",
    "version": 3
   },
   "file_extension": ".py",
   "mimetype": "text/x-python",
   "name": "python",
   "nbconvert_exporter": "python",
   "pygments_lexer": "ipython3",
   "version": "3.11.5"
  },
  "orig_nbformat": 4
 },
 "nbformat": 4,
 "nbformat_minor": 2
}
