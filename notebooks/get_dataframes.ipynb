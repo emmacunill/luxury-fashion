{
 "cells": [
  {
   "cell_type": "code",
   "execution_count": 1,
   "metadata": {},
   "outputs": [],
   "source": [
    "import pandas as pd\n",
    "import os\n",
    "import numpy as np\n",
    "import re\n",
    "from collections import Counter\n",
    "import matplotlib.pyplot as plt \n",
    "import seaborn as sb\n",
    "from bs4 import BeautifulSoup\n",
    "from urllib.request import urlopen\n",
    "import requests \n"
   ]
  },
  {
   "cell_type": "markdown",
   "metadata": {},
   "source": [
    "# GETTING THE DATAFRAMES I'M GOING TO WORK WITH #"
   ]
  },
  {
   "cell_type": "markdown",
   "metadata": {},
   "source": [
    "1. Download the base dataframe"
   ]
  },
  {
   "cell_type": "code",
   "execution_count": 2,
   "metadata": {},
   "outputs": [
    {
     "data": {
      "text/html": [
       "<div>\n",
       "<style scoped>\n",
       "    .dataframe tbody tr th:only-of-type {\n",
       "        vertical-align: middle;\n",
       "    }\n",
       "\n",
       "    .dataframe tbody tr th {\n",
       "        vertical-align: top;\n",
       "    }\n",
       "\n",
       "    .dataframe thead th {\n",
       "        text-align: right;\n",
       "    }\n",
       "</style>\n",
       "<table border=\"1\" class=\"dataframe\">\n",
       "  <thead>\n",
       "    <tr style=\"text-align: right;\">\n",
       "      <th></th>\n",
       "      <th>BrandName</th>\n",
       "      <th>BrandOriginCountry</th>\n",
       "      <th>BrandOriginRegion</th>\n",
       "      <th>BrandSector</th>\n",
       "      <th>BrandSubSector</th>\n",
       "      <th>Rank2001</th>\n",
       "      <th>Rank2002</th>\n",
       "      <th>Rank2003</th>\n",
       "      <th>Rank2004</th>\n",
       "      <th>Rank2005</th>\n",
       "      <th>...</th>\n",
       "      <th>GrowthRate2012</th>\n",
       "      <th>GrowthRate2013</th>\n",
       "      <th>GrowthRate2014</th>\n",
       "      <th>GrowthRate2015</th>\n",
       "      <th>GrowthRate2016</th>\n",
       "      <th>GrowthRate2017</th>\n",
       "      <th>GrowthRate2018</th>\n",
       "      <th>GrowthRate2019</th>\n",
       "      <th>GrowthRate2020</th>\n",
       "      <th>GrowthRate2021</th>\n",
       "    </tr>\n",
       "  </thead>\n",
       "  <tbody>\n",
       "    <tr>\n",
       "      <th>23</th>\n",
       "      <td>Tiffany</td>\n",
       "      <td>U.S.A.</td>\n",
       "      <td>America</td>\n",
       "      <td>Fashion</td>\n",
       "      <td>Luxury</td>\n",
       "      <td>73.0</td>\n",
       "      <td>72.0</td>\n",
       "      <td>70.0</td>\n",
       "      <td>75.0</td>\n",
       "      <td>81.0</td>\n",
       "      <td>...</td>\n",
       "      <td>14.70</td>\n",
       "      <td>5.45</td>\n",
       "      <td>9.12</td>\n",
       "      <td>6.23</td>\n",
       "      <td>-8.64</td>\n",
       "      <td>-6.37</td>\n",
       "      <td>4.60</td>\n",
       "      <td>-5.44</td>\n",
       "      <td>-6.92</td>\n",
       "      <td>10.43</td>\n",
       "    </tr>\n",
       "    <tr>\n",
       "      <th>18</th>\n",
       "      <td>Cartier</td>\n",
       "      <td>Switzerland</td>\n",
       "      <td>Europe</td>\n",
       "      <td>Fashion</td>\n",
       "      <td>Luxury</td>\n",
       "      <td>NaN</td>\n",
       "      <td>NaN</td>\n",
       "      <td>NaN</td>\n",
       "      <td>91.0</td>\n",
       "      <td>89.0</td>\n",
       "      <td>...</td>\n",
       "      <td>14.93</td>\n",
       "      <td>25.51</td>\n",
       "      <td>8.00</td>\n",
       "      <td>6.38</td>\n",
       "      <td>-2.35</td>\n",
       "      <td>-2.47</td>\n",
       "      <td>1.31</td>\n",
       "      <td>7.14</td>\n",
       "      <td>-8.52</td>\n",
       "      <td>8.90</td>\n",
       "    </tr>\n",
       "    <tr>\n",
       "      <th>8</th>\n",
       "      <td>Boss</td>\n",
       "      <td>Germany</td>\n",
       "      <td>Europe</td>\n",
       "      <td>Fashion</td>\n",
       "      <td>Apparel</td>\n",
       "      <td>NaN</td>\n",
       "      <td>NaN</td>\n",
       "      <td>NaN</td>\n",
       "      <td>NaN</td>\n",
       "      <td>NaN</td>\n",
       "      <td>...</td>\n",
       "      <td>NaN</td>\n",
       "      <td>NaN</td>\n",
       "      <td>NaN</td>\n",
       "      <td>3.07</td>\n",
       "      <td>-100.00</td>\n",
       "      <td>NaN</td>\n",
       "      <td>NaN</td>\n",
       "      <td>NaN</td>\n",
       "      <td>NaN</td>\n",
       "      <td>NaN</td>\n",
       "    </tr>\n",
       "    <tr>\n",
       "      <th>0</th>\n",
       "      <td>Louis Vuitton</td>\n",
       "      <td>France</td>\n",
       "      <td>Europe</td>\n",
       "      <td>Fashion</td>\n",
       "      <td>Luxury</td>\n",
       "      <td>38.0</td>\n",
       "      <td>41.0</td>\n",
       "      <td>45.0</td>\n",
       "      <td>44.0</td>\n",
       "      <td>18.0</td>\n",
       "      <td>...</td>\n",
       "      <td>1.75</td>\n",
       "      <td>5.58</td>\n",
       "      <td>-9.40</td>\n",
       "      <td>-1.34</td>\n",
       "      <td>7.86</td>\n",
       "      <td>-4.50</td>\n",
       "      <td>22.83</td>\n",
       "      <td>14.46</td>\n",
       "      <td>-1.56</td>\n",
       "      <td>15.91</td>\n",
       "    </tr>\n",
       "    <tr>\n",
       "      <th>24</th>\n",
       "      <td>Levi's</td>\n",
       "      <td>U.S.A.</td>\n",
       "      <td>America</td>\n",
       "      <td>Fashion</td>\n",
       "      <td>Apparel</td>\n",
       "      <td>67.0</td>\n",
       "      <td>73.0</td>\n",
       "      <td>77.0</td>\n",
       "      <td>85.0</td>\n",
       "      <td>96.0</td>\n",
       "      <td>...</td>\n",
       "      <td>NaN</td>\n",
       "      <td>NaN</td>\n",
       "      <td>NaN</td>\n",
       "      <td>NaN</td>\n",
       "      <td>NaN</td>\n",
       "      <td>NaN</td>\n",
       "      <td>NaN</td>\n",
       "      <td>NaN</td>\n",
       "      <td>NaN</td>\n",
       "      <td>NaN</td>\n",
       "    </tr>\n",
       "  </tbody>\n",
       "</table>\n",
       "<p>5 rows × 68 columns</p>\n",
       "</div>"
      ],
      "text/plain": [
       "        BrandName BrandOriginCountry BrandOriginRegion BrandSector  \\\n",
       "23        Tiffany             U.S.A.           America     Fashion   \n",
       "18        Cartier        Switzerland            Europe     Fashion   \n",
       "8            Boss            Germany            Europe     Fashion   \n",
       "0   Louis Vuitton             France            Europe     Fashion   \n",
       "24         Levi's             U.S.A.           America     Fashion   \n",
       "\n",
       "   BrandSubSector  Rank2001  Rank2002  Rank2003  Rank2004  Rank2005  ...  \\\n",
       "23         Luxury      73.0      72.0      70.0      75.0      81.0  ...   \n",
       "18         Luxury       NaN       NaN       NaN      91.0      89.0  ...   \n",
       "8         Apparel       NaN       NaN       NaN       NaN       NaN  ...   \n",
       "0          Luxury      38.0      41.0      45.0      44.0      18.0  ...   \n",
       "24        Apparel      67.0      73.0      77.0      85.0      96.0  ...   \n",
       "\n",
       "    GrowthRate2012  GrowthRate2013  GrowthRate2014  GrowthRate2015  \\\n",
       "23           14.70            5.45            9.12            6.23   \n",
       "18           14.93           25.51            8.00            6.38   \n",
       "8              NaN             NaN             NaN            3.07   \n",
       "0             1.75            5.58           -9.40           -1.34   \n",
       "24             NaN             NaN             NaN             NaN   \n",
       "\n",
       "    GrowthRate2016  GrowthRate2017  GrowthRate2018  GrowthRate2019  \\\n",
       "23           -8.64           -6.37            4.60           -5.44   \n",
       "18           -2.35           -2.47            1.31            7.14   \n",
       "8          -100.00             NaN             NaN             NaN   \n",
       "0             7.86           -4.50           22.83           14.46   \n",
       "24             NaN             NaN             NaN             NaN   \n",
       "\n",
       "    GrowthRate2020  GrowthRate2021  \n",
       "23           -6.92           10.43  \n",
       "18           -8.52            8.90  \n",
       "8              NaN             NaN  \n",
       "0            -1.56           15.91  \n",
       "24             NaN             NaN  \n",
       "\n",
       "[5 rows x 68 columns]"
      ]
     },
     "execution_count": 2,
     "metadata": {},
     "output_type": "execute_result"
    }
   ],
   "source": [
    "df = pd.read_csv(\"../data/Dataset Global Fashion Brands Brand Equity Ranking Growth Rate  COO ROO 2001-2021.csv\")\n",
    "df.sample(5)"
   ]
  },
  {
   "cell_type": "markdown",
   "metadata": {},
   "source": [
    "2. Web scrapping for 2nd dataframe"
   ]
  },
  {
   "cell_type": "markdown",
   "metadata": {},
   "source": [
    "''' The next comments you'll find are unsuccessful tries to webscraping an url. It didn't work cause they're calling themselfs, tried to do it for a long time and fer found a way \n",
    "to download the csv directly so all the next steps until reading the next csv didn't serve but I didn't want to \n",
    "delete it cause I spent 3 hours trying to scrap the website.'''"
   ]
  },
  {
   "cell_type": "code",
   "execution_count": 3,
   "metadata": {},
   "outputs": [
    {
     "data": {
      "text/plain": [
       "\"url = 'https://www.brandwatch.com/brandwatch-index/luxury-fashion'\\nres = requests.get(url, timeout=5)\\nhtml = res.content\\nsoup = BeautifulSoup(html, 'html.parser')\""
      ]
     },
     "execution_count": 3,
     "metadata": {},
     "output_type": "execute_result"
    }
   ],
   "source": [
    "'''url = 'https://www.brandwatch.com/brandwatch-index/luxury-fashion'\n",
    "res = requests.get(url, timeout=5)\n",
    "html = res.content\n",
    "soup = BeautifulSoup(html, 'html.parser')'''"
   ]
  },
  {
   "cell_type": "code",
   "execution_count": 4,
   "metadata": {},
   "outputs": [
    {
     "data": {
      "text/plain": [
       "'def get_columns(soup):\\n    index = soup.find(\"div\", {\"class\": \"index-table__row__pos\"})\\n    ind = index.find_all(\"h5\")\\n    ind_processed = [i.getText() for i in ind]\\n    return ind_processed'"
      ]
     },
     "execution_count": 4,
     "metadata": {},
     "output_type": "execute_result"
    }
   ],
   "source": [
    "'''def get_columns(soup):\n",
    "    index = soup.find(\"div\", {\"class\": \"index-table__row__pos\"})\n",
    "    ind = index.find_all(\"h5\")\n",
    "    ind_processed = [i.getText() for i in ind]\n",
    "    return ind_processed'''\n",
    "    "
   ]
  },
  {
   "cell_type": "code",
   "execution_count": 5,
   "metadata": {},
   "outputs": [
    {
     "data": {
      "text/plain": [
       "'get_columns(soup)'"
      ]
     },
     "execution_count": 5,
     "metadata": {},
     "output_type": "execute_result"
    }
   ],
   "source": [
    "'''get_columns(soup)'''"
   ]
  },
  {
   "cell_type": "code",
   "execution_count": 6,
   "metadata": {},
   "outputs": [
    {
     "data": {
      "text/plain": [
       "'ds = soup.find_all(\"li\", {\"class\": \"lindex-table__row index-table__row--body js-c-si-row\"})\\nds'"
      ]
     },
     "execution_count": 6,
     "metadata": {},
     "output_type": "execute_result"
    }
   ],
   "source": [
    "'''ds = soup.find_all(\"li\", {\"class\": \"lindex-table__row index-table__row--body js-c-si-row\"})\n",
    "ds'''"
   ]
  },
  {
   "cell_type": "code",
   "execution_count": 7,
   "metadata": {},
   "outputs": [
    {
     "data": {
      "text/plain": [
       "'url = \"https://www.brandwatch.com/wp-content/uploads/2020/01/LuxFashion-Q42019.csv?rev=1698422964802\"\\nres = requests.get(url)\\nres'"
      ]
     },
     "execution_count": 7,
     "metadata": {},
     "output_type": "execute_result"
    }
   ],
   "source": [
    "'''url = \"https://www.brandwatch.com/wp-content/uploads/2020/01/LuxFashion-Q42019.csv?rev=1698422964802\"\n",
    "res = requests.get(url)\n",
    "res'''"
   ]
  },
  {
   "cell_type": "code",
   "execution_count": 8,
   "metadata": {},
   "outputs": [
    {
     "data": {
      "text/plain": [
       "'res.content'"
      ]
     },
     "execution_count": 8,
     "metadata": {},
     "output_type": "execute_result"
    }
   ],
   "source": [
    "'''res.content'''"
   ]
  },
  {
   "cell_type": "code",
   "execution_count": 9,
   "metadata": {},
   "outputs": [
    {
     "data": {
      "text/plain": [
       "'import pandas as pd\\nurl = \\'https://www.brandwatch.com/brandwatch-index/luxury-fashion\\'\\nres = requests.get(url)\\nsoup = BeautifulSoup(res.content, \"html.parser\")\\nsoup'"
      ]
     },
     "execution_count": 9,
     "metadata": {},
     "output_type": "execute_result"
    }
   ],
   "source": [
    "'''import pandas as pd\n",
    "url = 'https://www.brandwatch.com/brandwatch-index/luxury-fashion'\n",
    "res = requests.get(url)\n",
    "soup = BeautifulSoup(res.content, \"html.parser\")\n",
    "soup'''\n"
   ]
  },
  {
   "cell_type": "code",
   "execution_count": 10,
   "metadata": {},
   "outputs": [
    {
     "data": {
      "text/plain": [
       "'ds = soup.find_all(\"li\")\\nds[20]'"
      ]
     },
     "execution_count": 10,
     "metadata": {},
     "output_type": "execute_result"
    }
   ],
   "source": [
    "'''ds = soup.find_all(\"li\")\n",
    "ds[20]'''"
   ]
  },
  {
   "cell_type": "markdown",
   "metadata": {},
   "source": [
    "2. 1 Finding another way to get the needed data."
   ]
  },
  {
   "cell_type": "markdown",
   "metadata": {},
   "source": [
    "    In this case downloaded as csv and imported with pandas"
   ]
  },
  {
   "cell_type": "code",
   "execution_count": 11,
   "metadata": {},
   "outputs": [
    {
     "data": {
      "text/html": [
       "<div>\n",
       "<style scoped>\n",
       "    .dataframe tbody tr th:only-of-type {\n",
       "        vertical-align: middle;\n",
       "    }\n",
       "\n",
       "    .dataframe tbody tr th {\n",
       "        vertical-align: top;\n",
       "    }\n",
       "\n",
       "    .dataframe thead th {\n",
       "        text-align: right;\n",
       "    }\n",
       "</style>\n",
       "<table border=\"1\" class=\"dataframe\">\n",
       "  <thead>\n",
       "    <tr style=\"text-align: right;\">\n",
       "      <th></th>\n",
       "      <th>Brand</th>\n",
       "      <th>Social Visibility</th>\n",
       "      <th>Web Visibility</th>\n",
       "      <th>Sentiment</th>\n",
       "      <th>Growth</th>\n",
       "      <th>Search</th>\n",
       "      <th>Total</th>\n",
       "    </tr>\n",
       "  </thead>\n",
       "  <tbody>\n",
       "    <tr>\n",
       "      <th>5</th>\n",
       "      <td>Prada</td>\n",
       "      <td>21.52</td>\n",
       "      <td>34.19</td>\n",
       "      <td>38.19</td>\n",
       "      <td>56.09</td>\n",
       "      <td>16.69</td>\n",
       "      <td>166.68</td>\n",
       "    </tr>\n",
       "    <tr>\n",
       "      <th>27</th>\n",
       "      <td>Dsquared2</td>\n",
       "      <td>1.04</td>\n",
       "      <td>2.41</td>\n",
       "      <td>51.40</td>\n",
       "      <td>0.00</td>\n",
       "      <td>3.13</td>\n",
       "      <td>57.98</td>\n",
       "    </tr>\n",
       "    <tr>\n",
       "      <th>13</th>\n",
       "      <td>Burberry</td>\n",
       "      <td>9.44</td>\n",
       "      <td>27.35</td>\n",
       "      <td>50.82</td>\n",
       "      <td>0.00</td>\n",
       "      <td>32.75</td>\n",
       "      <td>120.36</td>\n",
       "    </tr>\n",
       "    <tr>\n",
       "      <th>4</th>\n",
       "      <td>Coach</td>\n",
       "      <td>9.29</td>\n",
       "      <td>56.64</td>\n",
       "      <td>64.26</td>\n",
       "      <td>0.00</td>\n",
       "      <td>41.18</td>\n",
       "      <td>171.37</td>\n",
       "    </tr>\n",
       "    <tr>\n",
       "      <th>28</th>\n",
       "      <td>Paul Smith</td>\n",
       "      <td>1.34</td>\n",
       "      <td>11.18</td>\n",
       "      <td>22.62</td>\n",
       "      <td>1.09</td>\n",
       "      <td>11.19</td>\n",
       "      <td>47.42</td>\n",
       "    </tr>\n",
       "  </tbody>\n",
       "</table>\n",
       "</div>"
      ],
      "text/plain": [
       "         Brand  Social Visibility  Web Visibility  Sentiment  Growth  Search  \\\n",
       "5        Prada              21.52           34.19      38.19   56.09   16.69   \n",
       "27   Dsquared2               1.04            2.41      51.40    0.00    3.13   \n",
       "13    Burberry               9.44           27.35      50.82    0.00   32.75   \n",
       "4        Coach               9.29           56.64      64.26    0.00   41.18   \n",
       "28  Paul Smith               1.34           11.18      22.62    1.09   11.19   \n",
       "\n",
       "     Total  \n",
       "5   166.68  \n",
       "27   57.98  \n",
       "13  120.36  \n",
       "4   171.37  \n",
       "28   47.42  "
      ]
     },
     "execution_count": 11,
     "metadata": {},
     "output_type": "execute_result"
    }
   ],
   "source": [
    "df_2= pd.read_csv(\"../data/LuxFashion-Q42019.csv\")\n",
    "df_2.sample(5)"
   ]
  },
  {
   "cell_type": "markdown",
   "metadata": {},
   "source": [
    "3. Get the 3rd Dataframe by webscrapping"
   ]
  },
  {
   "cell_type": "code",
   "execution_count": 12,
   "metadata": {},
   "outputs": [],
   "source": [
    "url = 'https://fashionunited.com/i/top200'\n",
    "res = requests.get(url, timeout=5)\n",
    "html = res.content\n",
    "soup = BeautifulSoup(html, 'html.parser')"
   ]
  },
  {
   "cell_type": "code",
   "execution_count": 13,
   "metadata": {},
   "outputs": [],
   "source": [
    "'''Function to get a table and transform it into a dataframe from an already requested link.'''\n",
    "\n",
    "def get_table_web(soup):\n",
    "    table =  soup.find(\"table\")\n",
    "    rows = table.find_all('tr')\n",
    "    data = []\n",
    "    for row in rows:\n",
    "        cols = row.find_all('td')\n",
    "        cols = [col.text for col in cols]\n",
    "        data.append(cols)\n",
    "    return pd.DataFrame(data, columns=['Index','Rank', 'Company', 'Mcap $', 'Type'])"
   ]
  },
  {
   "cell_type": "code",
   "execution_count": 14,
   "metadata": {},
   "outputs": [
    {
     "data": {
      "text/html": [
       "<div>\n",
       "<style scoped>\n",
       "    .dataframe tbody tr th:only-of-type {\n",
       "        vertical-align: middle;\n",
       "    }\n",
       "\n",
       "    .dataframe tbody tr th {\n",
       "        vertical-align: top;\n",
       "    }\n",
       "\n",
       "    .dataframe thead th {\n",
       "        text-align: right;\n",
       "    }\n",
       "</style>\n",
       "<table border=\"1\" class=\"dataframe\">\n",
       "  <thead>\n",
       "    <tr style=\"text-align: right;\">\n",
       "      <th></th>\n",
       "      <th>Index</th>\n",
       "      <th>Rank</th>\n",
       "      <th>Company</th>\n",
       "      <th>Mcap $</th>\n",
       "      <th>Type</th>\n",
       "    </tr>\n",
       "  </thead>\n",
       "  <tbody>\n",
       "    <tr>\n",
       "      <th>26</th>\n",
       "      <td>\\n\\n\\n\\n</td>\n",
       "      <td>26</td>\n",
       "      <td>Primark</td>\n",
       "      <td>$9.89 b</td>\n",
       "      <td>Private</td>\n",
       "    </tr>\n",
       "    <tr>\n",
       "      <th>148</th>\n",
       "      <td>\\n\\n\\n\\n</td>\n",
       "      <td>148</td>\n",
       "      <td>Kurt Geiger</td>\n",
       "      <td>$1.02 b</td>\n",
       "      <td>Private</td>\n",
       "    </tr>\n",
       "    <tr>\n",
       "      <th>86</th>\n",
       "      <td>\\n\\n\\n\\n</td>\n",
       "      <td>86</td>\n",
       "      <td>Salvatore Ferragamo</td>\n",
       "      <td>$2.48 b</td>\n",
       "      <td>Public</td>\n",
       "    </tr>\n",
       "    <tr>\n",
       "      <th>0</th>\n",
       "      <td>None</td>\n",
       "      <td>None</td>\n",
       "      <td>None</td>\n",
       "      <td>None</td>\n",
       "      <td>None</td>\n",
       "    </tr>\n",
       "    <tr>\n",
       "      <th>66</th>\n",
       "      <td>\\n\\n\\n\\n</td>\n",
       "      <td>66</td>\n",
       "      <td>OTB Group</td>\n",
       "      <td>$3.17 b</td>\n",
       "      <td>Private</td>\n",
       "    </tr>\n",
       "  </tbody>\n",
       "</table>\n",
       "</div>"
      ],
      "text/plain": [
       "        Index  Rank              Company   Mcap $     Type\n",
       "26   \\n\\n\\n\\n    26              Primark  $9.89 b  Private\n",
       "148  \\n\\n\\n\\n   148          Kurt Geiger  $1.02 b  Private\n",
       "86   \\n\\n\\n\\n    86  Salvatore Ferragamo  $2.48 b   Public\n",
       "0        None  None                 None     None     None\n",
       "66   \\n\\n\\n\\n    66            OTB Group  $3.17 b  Private"
      ]
     },
     "execution_count": 14,
     "metadata": {},
     "output_type": "execute_result"
    }
   ],
   "source": [
    "'''Calling of the function'''\n",
    "\n",
    "df_3 = get_table_web(soup)\n",
    "df_3.sample(5)"
   ]
  },
  {
   "cell_type": "markdown",
   "metadata": {},
   "source": [
    "4. Export the last dataframe to csv."
   ]
  },
  {
   "cell_type": "code",
   "execution_count": 16,
   "metadata": {},
   "outputs": [],
   "source": [
    "df_3.to_csv(f\"../data/100_fashion_money.csv\")"
   ]
  }
 ],
 "metadata": {
  "kernelspec": {
   "display_name": "ironhack",
   "language": "python",
   "name": "python3"
  },
  "language_info": {
   "codemirror_mode": {
    "name": "ipython",
    "version": 3
   },
   "file_extension": ".py",
   "mimetype": "text/x-python",
   "name": "python",
   "nbconvert_exporter": "python",
   "pygments_lexer": "ipython3",
   "version": "3.11.5"
  },
  "orig_nbformat": 4
 },
 "nbformat": 4,
 "nbformat_minor": 2
}
